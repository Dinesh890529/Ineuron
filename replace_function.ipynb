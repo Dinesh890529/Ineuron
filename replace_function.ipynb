{
 "cells": [
  {
   "cell_type": "code",
   "execution_count": 39,
   "metadata": {},
   "outputs": [],
   "source": [
    "# Python program to replace text in a file:\n",
    "\n",
    "def replace(x,y):\n",
    "    x = input(\"Enter text to be replaced:\")\n",
    "    y = input(\"Enter text that will replace:\")\n",
    " \n",
    "    # file.txt should be replaced with\n",
    "    # the actual text file name\n",
    "    file = open(\"example.txt\", \"r+\")\n",
    "    \n",
    "    lines = ['This is a placement assignment']\n",
    "    with open('example.txt', 'w') as f:\n",
    "        for i in lines:\n",
    "            f.write(i)\n",
    " \n",
    "    # each sentence becomes an element in the list l\n",
    "    line = file.readlines()\n",
    " \n",
    "    # acts as a counter to know the\n",
    "    # index of the element to be replaced\n",
    "    c = 0\n",
    "    for i in line:\n",
    "        if x in i:\n",
    " \n",
    "            # Replacement carries the value\n",
    "            # of the text to be replaced\n",
    "            Replacement = i.replace(x, y)\n",
    " \n",
    "            # changes are made in the list\n",
    "            line = Replacement\n",
    "        c += 1\n",
    " \n",
    "    # The pre existing text in the file is erased\n",
    "    file.truncate(0)\n",
    "    file.seek(0,0)\n",
    "\n",
    "    # the modified list is written into\n",
    "    # the file thereby replacing the old text\n",
    "    file.writelines(line)\n",
    "    file.close()\n",
    "    \n",
    "    message = \"Text successfully replaced\"\n",
    "    return message"
   ]
  },
  {
   "cell_type": "code",
   "execution_count": 40,
   "metadata": {},
   "outputs": [
    {
     "name": "stdout",
     "output_type": "stream",
     "text": [
      "Enter text to be replaced:placement\n",
      "Enter text that will replace:screening\n"
     ]
    },
    {
     "data": {
      "text/plain": [
       "'Text successfully replaced'"
      ]
     },
     "execution_count": 40,
     "metadata": {},
     "output_type": "execute_result"
    }
   ],
   "source": [
    "replace(x,y)"
   ]
  },
  {
   "cell_type": "code",
   "execution_count": null,
   "metadata": {},
   "outputs": [],
   "source": []
  }
 ],
 "metadata": {
  "kernelspec": {
   "display_name": "Python 3",
   "language": "python",
   "name": "python3"
  },
  "language_info": {
   "codemirror_mode": {
    "name": "ipython",
    "version": 3
   },
   "file_extension": ".py",
   "mimetype": "text/x-python",
   "name": "python",
   "nbconvert_exporter": "python",
   "pygments_lexer": "ipython3",
   "version": "3.8.5"
  }
 },
 "nbformat": 4,
 "nbformat_minor": 4
}
