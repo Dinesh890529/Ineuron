{
 "cells": [
  {
   "cell_type": "markdown",
   "metadata": {},
   "source": [
    "# Python:"
   ]
  },
  {
   "cell_type": "markdown",
   "metadata": {},
   "source": [
    "# Assignment_1 : "
   ]
  },
  {
   "cell_type": "markdown",
   "metadata": {},
   "source": [
    "# Q1: "
   ]
  },
  {
   "cell_type": "markdown",
   "metadata": {},
   "source": [
    "1. In the below elements which of them are values or an expression?\n",
    "    eg:- values can be integer or string and expressions will be mathematical operators.\n",
    "        * \n",
    "'hello'\n",
    "-87.8\n",
    "- \n",
    "/ \n",
    "+\t\n",
    "6 \n"
   ]
  },
  {
   "cell_type": "markdown",
   "metadata": {},
   "source": [
    "Ans1: Values are: 'hello','-87.8' and 6\n",
    "      Expressions are: *,-,/ and +"
   ]
  },
  {
   "cell_type": "markdown",
   "metadata": {},
   "source": [
    "# Q2: "
   ]
  },
  {
   "cell_type": "markdown",
   "metadata": {},
   "source": [
    "2. What is the difference between string and variable?"
   ]
  },
  {
   "cell_type": "markdown",
   "metadata": {},
   "source": [
    "Ans2: \n",
    "    \n",
    "A string is a type of variable. Variables can be of several types like integer, floating point, string, boolean.\n",
    "\n",
    "Examples:\n",
    "\n",
    "a = 1 \n",
    "name = \"Bob\" \n",
    "rich = True \n",
    "\n",
    "In the above examples we have an integer, string and boolean. All of these are variables. String is just a type of variable.\n",
    "\n",
    "Python detects the type of variable automatically. \n",
    "\n",
    "A string is written between quotes either double or single quotes (\"string\" or 'string')."
   ]
  },
  {
   "cell_type": "markdown",
   "metadata": {},
   "source": [
    "# Q3: "
   ]
  },
  {
   "cell_type": "markdown",
   "metadata": {},
   "source": [
    "3. Describe three different data types?"
   ]
  },
  {
   "cell_type": "markdown",
   "metadata": {},
   "source": [
    "Ans3:\n",
    "    \n",
    "1. Python List:\n",
    "    \n",
    "An ordered sequence of items is called List. It is a very flexible data type in Python. \n",
    "There is no need for the value in the list to be of the same data type. \n",
    "The List is the data type that is highly used data type in Python.\n",
    "List datatype is the most exclusive datatype in Python for containing versatile data. \n",
    "It can easily hold different types of data in Python.  \n",
    "\n",
    "It is effortless to declare a list. The list is enclosed with brackets and commas are used to separate the items. \n",
    "\n",
    "List Examples:\n",
    "\n",
    "a = [5,9.9, 12, 13,25,55]\n",
    "\n",
    "One can also alter the value of an element in the list.\n",
    "\n",
    "2. Python Tuple:\n",
    "    \n",
    "A Tuple is a sequence of items that are in order, and it is not possible to modify the Tuples. \n",
    "The main difference list and tuples are that tuple is immutable, which means it cannot be altered. \n",
    "Tuples are generally faster than the list data type in Python because it cannot be changed or modified like list datatype.\n",
    "The primary use of Tuples is to write-protect data. \n",
    "Tuples can be represented by using parentheses (), and commas are used to separate the items. \n",
    "\n",
    "Tuples Examples:\n",
    "\n",
    "t = (6,7,8,9,10, 11.11)\n",
    "\n",
    "In the case of a tuple, one can use the slicing operator to extract the item, but it will not allow changing the value. \n",
    "\n",
    "3. Python Dictionary:\n",
    "    \n",
    "Dictionary is a type of python data type in which collections are unordered, and values are in pairs called key-value pairs.\n",
    "This type of data type is useful when there is a high volume of data. \n",
    "One of the best functions of Dictionaries data type is retrieving the data for which it is optimized. \n",
    "The value can only be retrieved if one knows the key to retrieve it. \n",
    "\n",
    "Braces {} (curly brackets) are used to define dictionaries data type in Python. \n",
    "A Pair in the dictionary data type is an item which is represented as key:value. \n",
    "The value and the key can be of any data type.\n",
    "\n",
    "Python Dictionary Examples:\n",
    "\n",
    "d1 = {'name': 'Dinesh'}\n",
    "d2 = {'EmpId': 718435}\n"
   ]
  },
  {
   "cell_type": "markdown",
   "metadata": {},
   "source": [
    "# Q4: "
   ]
  },
  {
   "cell_type": "markdown",
   "metadata": {},
   "source": [
    "4. What is an expression made up of? What do all expressions do?"
   ]
  },
  {
   "cell_type": "markdown",
   "metadata": {},
   "source": [
    "Ans4: \n",
    "    \n",
    "An expression is a combination of operators and operands that is interpreted to produce some other value.\n",
    "So that if there is more than one operator in an expression, \n",
    "their precedence decides which operation will be performed first. \n",
    "We have many different types of expressions in Python:\n",
    "    \n",
    "1. Constant Expressions: These are the expressions that have constant values only.\n",
    "    eg: x = 15 + 1.3\n",
    "        print(x)\n",
    "    o/p: 16.3\n",
    "        \n",
    "2. Arithmetic Expressions: An arithmetic expression is a combination of numeric values, operators, \n",
    "and sometimes parenthesis. The result of this type of expression is also a numeric value. \n",
    "The operators used in these expressions are arithmetic operators like addition, subtraction, etc. \n",
    "Here are some arithmetic operators in Python:\n",
    "    eg: x = 40\n",
    "        y = 12\n",
    "  \n",
    "        add = x + y\n",
    "        sub = x - y\n",
    "        pro = x * y\n",
    "        div = x / y\n",
    "  \n",
    "        print(add)\n",
    "        print(sub)\n",
    "        print(pro)\n",
    "        print(div)\n",
    "        \n",
    "    o/p:52\n",
    "        28\n",
    "        480\n",
    "        3.3333333333333335\n",
    "        \n",
    "3. Integral Expressions: \n",
    "These are the kind of expressions that produce only integer results after all computations and type conversions.\n",
    "    eg: a = 13\n",
    "        b = 12.0\n",
    "  \n",
    "        c = a + int(b)\n",
    "        print(c)\n",
    "        \n",
    "    o/p:25\n",
    "        \n",
    "4. Floating Expressions: \n",
    "These are the kind of expressions which produce floating point numbers as result after all computations and type conversions.\n",
    "\n",
    "    eg: a = 13\n",
    "        b = 5\n",
    "  \n",
    "        c = a / b\n",
    "        print(c)\n",
    "        \n",
    "    o/p:2.6\n",
    "        \n",
    "5. Relational Expressions: \n",
    "In these types of expressions, arithmetic expressions are written on both sides of relational operator (> , < , >= , <=).\n",
    "Those arithmetic expressions are evaluated first, and then compared as per relational operator \n",
    "and produce a boolean output in the end. These expressions are also called Boolean expressions.\n",
    "\n",
    "    eg: a = 21\n",
    "        b = 13\n",
    "        c = 40\n",
    "        d = 37\n",
    "  \n",
    "        p = (a + b) >= (c - d)\n",
    "        print(p)\n",
    "        \n",
    "    o/p:True\n",
    "        \n",
    "6. Logical Expressions: \n",
    "These are kinds of expressions that result in either True or False. It basically specifies one or more conditions.\n",
    "For example, (10 == 9) is a condition if 10 is equal to 9. As we know it is not correct, so it will return False. \n",
    "Studying logical expressions,we also come across some logical operators which can be seen in logical expressions most often. \n",
    "Here are some logical operators in Python:\n",
    "    \n",
    "P and Q --> It returns true if both P and Q are true otherwise returns false\n",
    "P or Q --> It returns true if at least one of P and Q is true\n",
    "not P --> It returns true if condition P is false\n",
    "\n",
    "    eg: P = (10 == 9)\n",
    "        Q = (7 > 5)\n",
    "        R = P and Q\n",
    "        S = P or Q\n",
    "        T = not P\n",
    "  \n",
    "        print(R)\n",
    "        print(S)\n",
    "        print(T)\n",
    "        \n",
    "    o/p:False\n",
    "        True\n",
    "        True\n",
    "        \n",
    "7. Bitwise Expressions: \n",
    "These are the kind of expressions in which computations are performed at bit level.\n",
    "\n",
    "    eg: a = 12\n",
    "  \n",
    "        x = a >> 2\n",
    "        y = a << 1\n",
    "      \n",
    "        print(x, y)\n",
    "        \n",
    "    o/p: 3, 24    \n",
    "        \n",
    "8. Combinational Expressions: \n",
    "We can also use different types of expressions in a single expression,and that will be termed as combinational expressions.\n",
    "\n",
    "    eg: a = 16\n",
    "        b = 12\n",
    "  \n",
    "        c = a + (b >> 1)\n",
    "        print(c)"
   ]
  },
  {
   "cell_type": "markdown",
   "metadata": {},
   "source": [
    "# Q5:"
   ]
  },
  {
   "cell_type": "markdown",
   "metadata": {},
   "source": [
    "5. This assignment statements, like spam = 10. What is the difference between an expression and a statement?"
   ]
  },
  {
   "cell_type": "markdown",
   "metadata": {},
   "source": [
    "Ans5:\n",
    "    \n",
    "    Evaluation of an expression always Produces or returns a result value. \n",
    "    Execution of a statement may or may not produces or displays a result value, it only does whatever the statement says.\n",
    "    \n",
    "    Hence, An expression is something that can be reduced to a value, \n",
    "    for example: \"10 + 3\" is an expression, but \"like spam = 10\" is not an expression it is a statement."
   ]
  },
  {
   "cell_type": "markdown",
   "metadata": {},
   "source": [
    "# Q6:"
   ]
  },
  {
   "cell_type": "markdown",
   "metadata": {},
   "source": [
    "6. After running the following code, what does the variable bacon contain?\n",
    "bacon = 22\n",
    "bacon + 1\n"
   ]
  },
  {
   "cell_type": "markdown",
   "metadata": {},
   "source": [
    "Ans6: After Execution bacon still hold the value of 22"
   ]
  },
  {
   "cell_type": "markdown",
   "metadata": {},
   "source": [
    "# Q7:"
   ]
  },
  {
   "cell_type": "markdown",
   "metadata": {},
   "source": [
    "7. What should the values of the following two terms be?"
   ]
  },
  {
   "cell_type": "markdown",
   "metadata": {},
   "source": [
    "Ans7: Both are equal holding the string value: 'spamspamspam'"
   ]
  },
  {
   "cell_type": "code",
   "execution_count": 1,
   "metadata": {},
   "outputs": [
    {
     "data": {
      "text/plain": [
       "'spamspamspam'"
      ]
     },
     "execution_count": 1,
     "metadata": {},
     "output_type": "execute_result"
    }
   ],
   "source": [
    "'spam' + 'spamspam'"
   ]
  },
  {
   "cell_type": "code",
   "execution_count": 2,
   "metadata": {},
   "outputs": [
    {
     "data": {
      "text/plain": [
       "'spamspamspam'"
      ]
     },
     "execution_count": 2,
     "metadata": {},
     "output_type": "execute_result"
    }
   ],
   "source": [
    "'spam' * 3"
   ]
  },
  {
   "cell_type": "markdown",
   "metadata": {},
   "source": [
    "# Q8:"
   ]
  },
  {
   "cell_type": "markdown",
   "metadata": {},
   "source": [
    "8. Why is eggs a valid variable name while 100 is invalid?"
   ]
  },
  {
   "cell_type": "markdown",
   "metadata": {},
   "source": [
    "Ans8:\n",
    "    Rules of variable is created as it should start with single character or combination alphabets and alphanumeric,\n",
    "    but not as integer which cannot assign to a variable"
   ]
  },
  {
   "cell_type": "markdown",
   "metadata": {},
   "source": [
    "# Q9:"
   ]
  },
  {
   "cell_type": "markdown",
   "metadata": {},
   "source": [
    "9. What three functions can be used to get the integer, floating-point number, or string version of a value?"
   ]
  },
  {
   "cell_type": "markdown",
   "metadata": {},
   "source": [
    "Ans9:\n",
    "    The Functions are:\n",
    "        1. int()\n",
    "        2. float()\n",
    "        3. str()"
   ]
  },
  {
   "cell_type": "markdown",
   "metadata": {},
   "source": [
    "# Q10:"
   ]
  },
  {
   "cell_type": "markdown",
   "metadata": {},
   "source": [
    "10. Why does this expression cause an error? How can you fix it?\n",
    "\n",
    "'I have eaten ' + 99 + ' burritos.'"
   ]
  },
  {
   "cell_type": "markdown",
   "metadata": {},
   "source": [
    "Ans10:\n",
    "    We can only concatenate string with string and we can add integer with integer,\n",
    "    but not string with integer and integer to string\n",
    "    \n",
    "    It can be done by changing the type of integer- 99 to string as below: This is called Type Casting in Python."
   ]
  },
  {
   "cell_type": "code",
   "execution_count": 3,
   "metadata": {},
   "outputs": [
    {
     "data": {
      "text/plain": [
       "'I have eaten 99 burritos.'"
      ]
     },
     "execution_count": 3,
     "metadata": {},
     "output_type": "execute_result"
    }
   ],
   "source": [
    "'I have eaten ' + str(99) + ' burritos.'"
   ]
  },
  {
   "cell_type": "markdown",
   "metadata": {},
   "source": [
    "# ----------------------------------End of Assignment_1-----------------------------------------"
   ]
  }
 ],
 "metadata": {
  "kernelspec": {
   "display_name": "Python 3",
   "language": "python",
   "name": "python3"
  },
  "language_info": {
   "codemirror_mode": {
    "name": "ipython",
    "version": 3
   },
   "file_extension": ".py",
   "mimetype": "text/x-python",
   "name": "python",
   "nbconvert_exporter": "python",
   "pygments_lexer": "ipython3",
   "version": "3.8.5"
  }
 },
 "nbformat": 4,
 "nbformat_minor": 4
}
